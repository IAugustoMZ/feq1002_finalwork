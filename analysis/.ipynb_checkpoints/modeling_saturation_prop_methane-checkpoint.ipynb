{
 "cells": [
  {
   "cell_type": "markdown",
   "id": "6594ea99",
   "metadata": {},
   "source": [
    "# Modeling Saturation Properties of Methane\n",
    "\n",
    "<br>\n",
    "\n",
    "This notebook aims to create regression models to predict saturation properties of methane, based on experimental data."
   ]
  },
  {
   "cell_type": "code",
   "execution_count": 1,
   "id": "f3b3d999",
   "metadata": {},
   "outputs": [],
   "source": [
    "import pandas as pd\n",
    "import numpy as np\n",
    "import matplotlib.pyplot as plt\n",
    "import seaborn as sns\n",
    "import os\n",
    "import joblib\n",
    "import warnings\n",
    "import sys\n",
    "sys.path.append('../modules/')\n",
    "from utils_functions import utils\n",
    "from property import FluidProperty as fp\n",
    "\n",
    "############################################# IMPORTANT DEFINITIONS ###########################################################\n",
    "RANDOM_SEED = 1002\n",
    "warnings.filterwarnings('ignore')\n",
    "MODEL_SAVE_FILEPATH = '../models'\n",
    "SATURATION_DATA_FILEPATH = '../data'\n",
    "SATURATION_FILENAME = 'SaturationProperties.xlsx'\n",
    "FLUID_CODE = 1 # methane"
   ]
  },
  {
   "cell_type": "markdown",
   "id": "9152cbf8",
   "metadata": {},
   "source": [
    "## 1. Vapor Pressure"
   ]
  },
  {
   "cell_type": "code",
   "execution_count": 2,
   "id": "ffd5216c",
   "metadata": {},
   "outputs": [
    {
     "data": {
      "text/html": [
       "<div>\n",
       "<style scoped>\n",
       "    .dataframe tbody tr th:only-of-type {\n",
       "        vertical-align: middle;\n",
       "    }\n",
       "\n",
       "    .dataframe tbody tr th {\n",
       "        vertical-align: top;\n",
       "    }\n",
       "\n",
       "    .dataframe thead th {\n",
       "        text-align: right;\n",
       "    }\n",
       "</style>\n",
       "<table border=\"1\" class=\"dataframe\">\n",
       "  <thead>\n",
       "    <tr style=\"text-align: right;\">\n",
       "      <th></th>\n",
       "      <th>t</th>\n",
       "      <th>p</th>\n",
       "      <th>x</th>\n",
       "      <th>v</th>\n",
       "      <th>h</th>\n",
       "      <th>s</th>\n",
       "    </tr>\n",
       "  </thead>\n",
       "  <tbody>\n",
       "    <tr>\n",
       "      <th>0</th>\n",
       "      <td>90.694</td>\n",
       "      <td>0.011696</td>\n",
       "      <td>0</td>\n",
       "      <td>0.035534</td>\n",
       "      <td>-1.152200</td>\n",
       "      <td>-0.011389</td>\n",
       "    </tr>\n",
       "    <tr>\n",
       "      <th>1</th>\n",
       "      <td>100.000</td>\n",
       "      <td>0.034376</td>\n",
       "      <td>0</td>\n",
       "      <td>0.036554</td>\n",
       "      <td>-0.646020</td>\n",
       "      <td>-0.006086</td>\n",
       "    </tr>\n",
       "    <tr>\n",
       "      <th>2</th>\n",
       "      <td>105.000</td>\n",
       "      <td>0.056377</td>\n",
       "      <td>0</td>\n",
       "      <td>0.037143</td>\n",
       "      <td>-0.370970</td>\n",
       "      <td>-0.003410</td>\n",
       "    </tr>\n",
       "    <tr>\n",
       "      <th>3</th>\n",
       "      <td>110.000</td>\n",
       "      <td>0.088130</td>\n",
       "      <td>0</td>\n",
       "      <td>0.037768</td>\n",
       "      <td>-0.093257</td>\n",
       "      <td>-0.000837</td>\n",
       "    </tr>\n",
       "    <tr>\n",
       "      <th>4</th>\n",
       "      <td>115.000</td>\n",
       "      <td>0.132210</td>\n",
       "      <td>0</td>\n",
       "      <td>0.038431</td>\n",
       "      <td>0.187500</td>\n",
       "      <td>0.001644</td>\n",
       "    </tr>\n",
       "  </tbody>\n",
       "</table>\n",
       "</div>"
      ],
      "text/plain": [
       "         t         p  x         v         h         s\n",
       "0   90.694  0.011696  0  0.035534 -1.152200 -0.011389\n",
       "1  100.000  0.034376  0  0.036554 -0.646020 -0.006086\n",
       "2  105.000  0.056377  0  0.037143 -0.370970 -0.003410\n",
       "3  110.000  0.088130  0  0.037768 -0.093257 -0.000837\n",
       "4  115.000  0.132210  0  0.038431  0.187500  0.001644"
      ]
     },
     "execution_count": 2,
     "metadata": {},
     "output_type": "execute_result"
    }
   ],
   "source": [
    "# import data\n",
    "basic = utils()\n",
    "data = basic.load_filter_data(vapor_fraction = 0, \n",
    "                              fluid_code = FLUID_CODE, \n",
    "                              complete_filepath = os.path.join(SATURATION_DATA_FILEPATH, SATURATION_FILENAME))\n",
    "data.head()"
   ]
  },
  {
   "cell_type": "code",
   "execution_count": 3,
   "id": "6e693e70",
   "metadata": {},
   "outputs": [
    {
     "ename": "TypeError",
     "evalue": "vapor_pressure() missing 1 required positional argument: 'fluid_code'",
     "output_type": "error",
     "traceback": [
      "\u001b[1;31m---------------------------------------------------------------------------\u001b[0m",
      "\u001b[1;31mTypeError\u001b[0m                                 Traceback (most recent call last)",
      "\u001b[1;32m<ipython-input-3-6da48aae7479>\u001b[0m in \u001b[0;36m<module>\u001b[1;34m\u001b[0m\n\u001b[1;32m----> 1\u001b[1;33m \u001b[0mfp\u001b[0m\u001b[1;33m.\u001b[0m\u001b[0mvapor_pressure\u001b[0m\u001b[1;33m(\u001b[0m\u001b[0mFLUID_CODE\u001b[0m\u001b[1;33m,\u001b[0m \u001b[0mT\u001b[0m \u001b[1;33m=\u001b[0m \u001b[1;36m100\u001b[0m\u001b[1;33m)\u001b[0m\u001b[1;33m\u001b[0m\u001b[1;33m\u001b[0m\u001b[0m\n\u001b[0m",
      "\u001b[1;31mTypeError\u001b[0m: vapor_pressure() missing 1 required positional argument: 'fluid_code'"
     ]
    }
   ],
   "source": [
    "fp.vapor_pressure(fluid_code = FLUID_CODE, T = 100)"
   ]
  }
 ],
 "metadata": {
  "kernelspec": {
   "display_name": "Python 3",
   "language": "python",
   "name": "python3"
  },
  "language_info": {
   "codemirror_mode": {
    "name": "ipython",
    "version": 3
   },
   "file_extension": ".py",
   "mimetype": "text/x-python",
   "name": "python",
   "nbconvert_exporter": "python",
   "pygments_lexer": "ipython3",
   "version": "3.8.10"
  }
 },
 "nbformat": 4,
 "nbformat_minor": 5
}
