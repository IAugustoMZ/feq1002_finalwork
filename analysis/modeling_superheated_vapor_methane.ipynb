{
 "cells": [
  {
   "cell_type": "markdown",
   "id": "e7702af0",
   "metadata": {},
   "source": [
    "# Modeling Superheated Vapor Properties of Methane\n",
    "\n",
    "<br>\n",
    "\n",
    "This notebook aims to validate the models of superheated vapor of methane based on residual properties and experimental data"
   ]
  },
  {
   "cell_type": "code",
   "execution_count": 1,
   "id": "4e9e4974",
   "metadata": {},
   "outputs": [],
   "source": [
    "import pandas as pd\n",
    "import numpy as np\n",
    "import matplotlib.pyplot as plt\n",
    "import seaborn as sns\n",
    "import os\n",
    "import joblib\n",
    "import warnings\n",
    "import sys\n",
    "sys.path.append('../modules/')\n",
    "from utils_functions import utils\n",
    "from validation import validate\n",
    "from property import FluidProperty\n",
    "\n",
    "############################################# IMPORTANT DEFINITIONS ###########################################################\n",
    "RANDOM_SEED = 1002\n",
    "warnings.filterwarnings('ignore')\n",
    "FLUID_CODE = 1 # methane\n",
    "compound = 'methane'\n",
    "basic = utils()\n",
    "validation = validate()\n",
    "fp = FluidProperty()"
   ]
  },
  {
   "cell_type": "code",
   "execution_count": 2,
   "id": "b8f08a5f",
   "metadata": {},
   "outputs": [
    {
     "data": {
      "text/plain": [
       "2075.67634958237"
      ]
     },
     "execution_count": 2,
     "metadata": {},
     "output_type": "execute_result"
    }
   ],
   "source": [
    "fp.ideal_gas_cp(50, FLUID_CODE)"
   ]
  },
  {
   "cell_type": "code",
   "execution_count": 3,
   "id": "efcf5900",
   "metadata": {},
   "outputs": [
    {
     "data": {
      "text/plain": [
       "5541.94417593459"
      ]
     },
     "execution_count": 3,
     "metadata": {},
     "output_type": "execute_result"
    }
   ],
   "source": [
    "fp.ideal_gas_cp(1500, FLUID_CODE)"
   ]
  },
  {
   "cell_type": "code",
   "execution_count": 4,
   "id": "aff25f9e",
   "metadata": {},
   "outputs": [
    {
     "data": {
      "text/plain": [
       "3341.520758082652"
      ]
     },
     "execution_count": 4,
     "metadata": {},
     "output_type": "execute_result"
    }
   ],
   "source": [
    "fp.liquid_cp(90.69, FLUID_CODE)"
   ]
  },
  {
   "cell_type": "code",
   "execution_count": 5,
   "id": "e1046f18",
   "metadata": {},
   "outputs": [
    {
     "data": {
      "text/plain": [
       "93366.87237089875"
      ]
     },
     "execution_count": 5,
     "metadata": {},
     "output_type": "execute_result"
    }
   ],
   "source": [
    "fp.liquid_cp(190, FLUID_CODE)"
   ]
  }
 ],
 "metadata": {
  "kernelspec": {
   "display_name": "Python 3",
   "language": "python",
   "name": "python3"
  },
  "language_info": {
   "codemirror_mode": {
    "name": "ipython",
    "version": 3
   },
   "file_extension": ".py",
   "mimetype": "text/x-python",
   "name": "python",
   "nbconvert_exporter": "python",
   "pygments_lexer": "ipython3",
   "version": "3.8.10"
  }
 },
 "nbformat": 4,
 "nbformat_minor": 5
}
