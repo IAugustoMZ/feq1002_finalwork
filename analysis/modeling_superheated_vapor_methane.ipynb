{
 "cells": [
  {
   "cell_type": "markdown",
   "id": "e7702af0",
   "metadata": {},
   "source": [
    "# Modeling Superheated Vapor Properties of Methane\n",
    "\n",
    "<br>\n",
    "\n",
    "This notebook aims to validate the models of superheated vapor of methane based on residual properties and experimental data"
   ]
  },
  {
   "cell_type": "code",
   "execution_count": 1,
   "id": "4e9e4974",
   "metadata": {},
   "outputs": [],
   "source": [
    "import pandas as pd\n",
    "import numpy as np\n",
    "import matplotlib.pyplot as plt\n",
    "import seaborn as sns\n",
    "import os\n",
    "import joblib\n",
    "import warnings\n",
    "import sys\n",
    "sys.path.append('../modules/')\n",
    "from utils_functions import utils\n",
    "from validation import validate\n",
    "from property import FluidProperty\n",
    "\n",
    "############################################# IMPORTANT DEFINITIONS ###########################################################\n",
    "RANDOM_SEED = 1002\n",
    "warnings.filterwarnings('ignore')\n",
    "FLUID_CODE = 1 # methane\n",
    "compound = 'methane'\n",
    "basic = utils()\n",
    "validation = validate()\n",
    "fp = FluidProperty()"
   ]
  },
  {
   "cell_type": "code",
   "execution_count": 2,
   "id": "b8f08a5f",
   "metadata": {},
   "outputs": [
    {
     "data": {
      "text/plain": [
       "2075.67634958237"
      ]
     },
     "execution_count": 2,
     "metadata": {},
     "output_type": "execute_result"
    }
   ],
   "source": [
    "fp.ideal_gas_cp(50, FLUID_CODE)"
   ]
  },
  {
   "cell_type": "code",
   "execution_count": 3,
   "id": "efcf5900",
   "metadata": {},
   "outputs": [
    {
     "data": {
      "text/plain": [
       "5541.94417593459"
      ]
     },
     "execution_count": 3,
     "metadata": {},
     "output_type": "execute_result"
    }
   ],
   "source": [
    "fp.ideal_gas_cp(1500, FLUID_CODE)"
   ]
  },
  {
   "cell_type": "code",
   "execution_count": 4,
   "id": "aff25f9e",
   "metadata": {},
   "outputs": [
    {
     "data": {
      "text/plain": [
       "3341.520758082652"
      ]
     },
     "execution_count": 4,
     "metadata": {},
     "output_type": "execute_result"
    }
   ],
   "source": [
    "fp.liquid_cp(90.69, FLUID_CODE)"
   ]
  },
  {
   "cell_type": "code",
   "execution_count": 5,
   "id": "e1046f18",
   "metadata": {},
   "outputs": [
    {
     "data": {
      "text/plain": [
       "93366.87237089875"
      ]
     },
     "execution_count": 5,
     "metadata": {},
     "output_type": "execute_result"
    }
   ],
   "source": [
    "fp.liquid_cp(190, FLUID_CODE)"
   ]
  },
  {
   "cell_type": "code",
   "execution_count": 6,
   "id": "d889dd69",
   "metadata": {},
   "outputs": [],
   "source": [
    "h = fp.integrate_cp([500,600], fluid_code = FLUID_CODE, therm_func = 'h', state = 'v')"
   ]
  },
  {
   "cell_type": "code",
   "execution_count": 11,
   "id": "f83fd3e9",
   "metadata": {},
   "outputs": [
    {
     "data": {
      "text/plain": [
       "9.861471001326246"
      ]
     },
     "execution_count": 11,
     "metadata": {},
     "output_type": "execute_result"
    }
   ],
   "source": [
    "(fp.thermodynamic_prop(600, 500, FLUID_CODE, 'rk', 's')-fp.thermodynamic_prop(500, 500, FLUID_CODE, 'rk', 's'))*(16/1000)"
   ]
  },
  {
   "cell_type": "code",
   "execution_count": 8,
   "id": "3489dc0b",
   "metadata": {},
   "outputs": [],
   "source": [
    "# (fp.thermodynamic_prop(600, 10, FLUID_CODE, 'srk', 'h')-fp.thermodynamic_prop(500, 10, FLUID_CODE, 'srk', 'h'))*(16/1000)"
   ]
  },
  {
   "cell_type": "code",
   "execution_count": 9,
   "id": "f66b998a",
   "metadata": {},
   "outputs": [],
   "source": [
    "# (fp.thermodynamic_prop(600, 10, FLUID_CODE, 'pr', 'h')-fp.thermodynamic_prop(500, 10, FLUID_CODE, 'pr', 'h'))*(16/1000)"
   ]
  },
  {
   "cell_type": "code",
   "execution_count": 12,
   "id": "1d593b20",
   "metadata": {},
   "outputs": [
    {
     "data": {
      "text/plain": [
       "10.313999999999997"
      ]
     },
     "execution_count": 12,
     "metadata": {},
     "output_type": "execute_result"
    }
   ],
   "source": [
    "(0.061061-0.050747)*1000"
   ]
  }
 ],
 "metadata": {
  "kernelspec": {
   "display_name": "Python 3",
   "language": "python",
   "name": "python3"
  },
  "language_info": {
   "codemirror_mode": {
    "name": "ipython",
    "version": 3
   },
   "file_extension": ".py",
   "mimetype": "text/x-python",
   "name": "python",
   "nbconvert_exporter": "python",
   "pygments_lexer": "ipython3",
   "version": "3.8.10"
  }
 },
 "nbformat": 4,
 "nbformat_minor": 5
}
